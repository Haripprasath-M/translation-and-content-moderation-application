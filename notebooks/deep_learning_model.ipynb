{
 "cells": [
  {
   "cell_type": "markdown",
   "metadata": {},
   "source": [
    "#### Import required libraries"
   ]
  },
  {
   "cell_type": "code",
   "execution_count": 1,
   "metadata": {},
   "outputs": [],
   "source": [
    "import numpy as np\n",
    "import pandas as pd\n",
    "import re\n",
    "from sklearn.metrics import accuracy_score, f1_score, classification_report\n",
    "from tensorflow.keras.preprocessing.text import Tokenizer\n",
    "from tensorflow.keras.utils import pad_sequences\n",
    "from tensorflow.keras.models import Sequential\n",
    "from tensorflow.keras.layers import Dense, Embedding, LSTM\n",
    "from tensorflow.keras.losses import BinaryCrossentropy\n",
    "from tensorflow.keras.optimizers import Adam\n",
    "from gensim.models import KeyedVectors\n",
    "import gensim.downloader as api\n",
    "import warnings\n",
    "warnings.filterwarnings('ignore')"
   ]
  },
  {
   "cell_type": "markdown",
   "metadata": {},
   "source": [
    "#### Data collection"
   ]
  },
  {
   "cell_type": "code",
   "execution_count": 2,
   "metadata": {},
   "outputs": [],
   "source": [
    "X_train = pd.read_csv('../data/processed/X_train.csv')\n",
    "y_train = pd.read_csv('../data/processed/y_train.csv')\n",
    "X_test = pd.read_csv('../data/processed/X_test.csv')\n",
    "y_test = pd.read_csv('../data/processed/y_test.csv')"
   ]
  },
  {
   "cell_type": "code",
   "execution_count": 3,
   "metadata": {
    "scrolled": true
   },
   "outputs": [
    {
     "name": "stdout",
     "output_type": "stream",
     "text": [
      "X_train: (100499, 7)\n",
      "y_train: (100499, 6)\n",
      "X_test: (25125, 7)\n",
      "y_test: (25125, 6)\n"
     ]
    }
   ],
   "source": [
    "print('X_train:', X_train.shape)\n",
    "print('y_train:', y_train.shape)\n",
    "print('X_test:', X_test.shape)\n",
    "print('y_test:', y_test.shape)"
   ]
  },
  {
   "cell_type": "markdown",
   "metadata": {},
   "source": [
    "#### Data cleaning"
   ]
  },
  {
   "cell_type": "code",
   "execution_count": 4,
   "metadata": {},
   "outputs": [],
   "source": [
    "X_train['clean_text'] = X_train['clean_text'].apply(lambda x: re.sub('[^a-z]', ' ', x))\n",
    "X_test['clean_text'] = X_test['clean_text'].apply(lambda x: re.sub('[^a-z]', ' ', x))"
   ]
  },
  {
   "cell_type": "code",
   "execution_count": 5,
   "metadata": {},
   "outputs": [],
   "source": [
    "train_labels = y_train.values\n",
    "test_labels = y_test.values"
   ]
  },
  {
   "cell_type": "markdown",
   "metadata": {},
   "source": [
    "#### Tokenize and apply padding"
   ]
  },
  {
   "cell_type": "code",
   "execution_count": 6,
   "metadata": {},
   "outputs": [],
   "source": [
    "tokenizer = Tokenizer()\n",
    "tokenizer.fit_on_texts(X_train['clean_text'])\n",
    "\n",
    "train_text = tokenizer.texts_to_sequences(X_train['clean_text'])\n",
    "test_text = tokenizer.texts_to_sequences(X_test['clean_text'])"
   ]
  },
  {
   "cell_type": "code",
   "execution_count": 7,
   "metadata": {},
   "outputs": [],
   "source": [
    "max_length = 500\n",
    "\n",
    "train_text = pad_sequences(train_text, max_length)\n",
    "test_text = pad_sequences(test_text, max_length)"
   ]
  },
  {
   "cell_type": "markdown",
   "metadata": {},
   "source": [
    "#### Load pre-trained fasttext model"
   ]
  },
  {
   "cell_type": "code",
   "execution_count": 55,
   "metadata": {
    "scrolled": true
   },
   "outputs": [],
   "source": [
    "#embedding_model = api.load('fasttext-wiki-news-subwords-300')\n",
    "#embedding_model.save('../src/models/fasttext-wiki-news-subwords-300.model')"
   ]
  },
  {
   "cell_type": "code",
   "execution_count": 9,
   "metadata": {},
   "outputs": [],
   "source": [
    "loaded_fasttext_model = KeyedVectors.load('../src/models/fasttext-wiki-news-subwords-300.model')"
   ]
  },
  {
   "cell_type": "markdown",
   "metadata": {},
   "source": [
    "#### Create embedding matrix"
   ]
  },
  {
   "cell_type": "code",
   "execution_count": 51,
   "metadata": {},
   "outputs": [],
   "source": [
    "embedding_dim = loaded_fasttext_model.vector_size\n",
    "vocab_size = len(tokenizer.word_index) + 1\n",
    "embedding_matrix = np.zeros((vocab_size, embedding_dim))"
   ]
  },
  {
   "cell_type": "code",
   "execution_count": 52,
   "metadata": {
    "scrolled": true
   },
   "outputs": [],
   "source": [
    "for word, i in tokenizer.word_index.items():\n",
    "    if word in loaded_fasttext_model:\n",
    "        embedding_matrix[i] = loaded_fasttext_model[word]\n",
    "    else:\n",
    "        embedding_matrix[i] = np.zeros(embedding_dim)"
   ]
  },
  {
   "cell_type": "markdown",
   "metadata": {},
   "source": [
    "#### Build LSTM model"
   ]
  },
  {
   "cell_type": "code",
   "execution_count": 59,
   "metadata": {},
   "outputs": [],
   "source": [
    "lstm = Sequential()\n",
    "lstm.add(Embedding(input_dim=vocab_size, \n",
    "                   output_dim=embedding_dim,\n",
    "                   input_length=max_length,\n",
    "                   weights=[embedding_matrix],\n",
    "                   trainable=False))\n",
    "lstm.add(LSTM(128))\n",
    "lstm.add(Dense(128, activation='relu'))\n",
    "lstm.add(Dense(6, activation='sigmoid'))"
   ]
  },
  {
   "cell_type": "code",
   "execution_count": 60,
   "metadata": {},
   "outputs": [],
   "source": [
    "lstm.compile(optimizer=Adam(learning_rate=0.001, amsgrad=True),\n",
    "             loss=BinaryCrossentropy(),\n",
    "             metrics=['accuracy'])"
   ]
  },
  {
   "cell_type": "code",
   "execution_count": 61,
   "metadata": {},
   "outputs": [
    {
     "name": "stdout",
     "output_type": "stream",
     "text": [
      "Epoch 1/10\n",
      "\u001b[1m3141/3141\u001b[0m \u001b[32m━━━━━━━━━━━━━━━━━━━━\u001b[0m\u001b[37m\u001b[0m \u001b[1m437s\u001b[0m 138ms/step - accuracy: 0.9376 - loss: 0.0983 - val_accuracy: 0.9953 - val_loss: 0.0579\n",
      "Epoch 2/10\n",
      "\u001b[1m3141/3141\u001b[0m \u001b[32m━━━━━━━━━━━━━━━━━━━━\u001b[0m\u001b[37m\u001b[0m \u001b[1m438s\u001b[0m 140ms/step - accuracy: 0.9940 - loss: 0.0533 - val_accuracy: 0.9953 - val_loss: 0.0502\n",
      "Epoch 3/10\n",
      "\u001b[1m3141/3141\u001b[0m \u001b[32m━━━━━━━━━━━━━━━━━━━━\u001b[0m\u001b[37m\u001b[0m \u001b[1m439s\u001b[0m 140ms/step - accuracy: 0.9899 - loss: 0.0476 - val_accuracy: 0.9936 - val_loss: 0.0467\n",
      "Epoch 4/10\n",
      "\u001b[1m3141/3141\u001b[0m \u001b[32m━━━━━━━━━━━━━━━━━━━━\u001b[0m\u001b[37m\u001b[0m \u001b[1m441s\u001b[0m 141ms/step - accuracy: 0.9890 - loss: 0.0444 - val_accuracy: 0.9928 - val_loss: 0.0461\n",
      "Epoch 5/10\n",
      "\u001b[1m3141/3141\u001b[0m \u001b[32m━━━━━━━━━━━━━━━━━━━━\u001b[0m\u001b[37m\u001b[0m \u001b[1m440s\u001b[0m 140ms/step - accuracy: 0.9785 - loss: 0.0427 - val_accuracy: 0.9942 - val_loss: 0.0460\n",
      "Epoch 6/10\n",
      "\u001b[1m3141/3141\u001b[0m \u001b[32m━━━━━━━━━━━━━━━━━━━━\u001b[0m\u001b[37m\u001b[0m \u001b[1m441s\u001b[0m 141ms/step - accuracy: 0.9736 - loss: 0.0407 - val_accuracy: 0.9936 - val_loss: 0.0454\n",
      "Epoch 7/10\n",
      "\u001b[1m3141/3141\u001b[0m \u001b[32m━━━━━━━━━━━━━━━━━━━━\u001b[0m\u001b[37m\u001b[0m \u001b[1m443s\u001b[0m 141ms/step - accuracy: 0.9886 - loss: 0.0397 - val_accuracy: 0.9938 - val_loss: 0.0455\n",
      "Epoch 8/10\n",
      "\u001b[1m3141/3141\u001b[0m \u001b[32m━━━━━━━━━━━━━━━━━━━━\u001b[0m\u001b[37m\u001b[0m \u001b[1m446s\u001b[0m 142ms/step - accuracy: 0.9871 - loss: 0.0370 - val_accuracy: 0.9819 - val_loss: 0.0477\n",
      "Epoch 9/10\n",
      "\u001b[1m3141/3141\u001b[0m \u001b[32m━━━━━━━━━━━━━━━━━━━━\u001b[0m\u001b[37m\u001b[0m \u001b[1m450s\u001b[0m 143ms/step - accuracy: 0.9813 - loss: 0.0362 - val_accuracy: 0.9770 - val_loss: 0.0473\n",
      "Epoch 10/10\n",
      "\u001b[1m3141/3141\u001b[0m \u001b[32m━━━━━━━━━━━━━━━━━━━━\u001b[0m\u001b[37m\u001b[0m \u001b[1m453s\u001b[0m 144ms/step - accuracy: 0.9754 - loss: 0.0340 - val_accuracy: 0.9881 - val_loss: 0.0478\n"
     ]
    },
    {
     "data": {
      "text/plain": [
       "<keras.src.callbacks.history.History at 0x1822fc89490>"
      ]
     },
     "execution_count": 61,
     "metadata": {},
     "output_type": "execute_result"
    }
   ],
   "source": [
    "lstm.fit(train_text, train_labels, batch_size=32, epochs=10, validation_data=(test_text, test_labels))"
   ]
  },
  {
   "cell_type": "code",
   "execution_count": 62,
   "metadata": {},
   "outputs": [
    {
     "name": "stdout",
     "output_type": "stream",
     "text": [
      "\u001b[1m786/786\u001b[0m \u001b[32m━━━━━━━━━━━━━━━━━━━━\u001b[0m\u001b[37m\u001b[0m \u001b[1m50s\u001b[0m 63ms/step\n"
     ]
    }
   ],
   "source": [
    "lstm_pred = lstm.predict(test_text)\n",
    "lstm_pred_binary = (lstm_pred > 0.5).astype(int)"
   ]
  },
  {
   "cell_type": "code",
   "execution_count": 64,
   "metadata": {
    "scrolled": false
   },
   "outputs": [
    {
     "name": "stdout",
     "output_type": "stream",
     "text": [
      "Accuracy: 0.9160995024875622\n",
      "F1 score: 0.7549960977268603\n",
      "              precision    recall  f1-score   support\n",
      "\n",
      "           0       0.87      0.76      0.81      2702\n",
      "           1       0.52      0.16      0.24       272\n",
      "           2       0.84      0.82      0.83      1473\n",
      "           3       0.57      0.37      0.45        91\n",
      "           4       0.78      0.68      0.73      1409\n",
      "           5       0.63      0.44      0.52       240\n",
      "\n",
      "   micro avg       0.83      0.71      0.76      6187\n",
      "   macro avg       0.70      0.54      0.60      6187\n",
      "weighted avg       0.81      0.71      0.75      6187\n",
      " samples avg       0.07      0.07      0.07      6187\n",
      "\n"
     ]
    }
   ],
   "source": [
    "print('Accuracy:', accuracy_score(test_labels, lstm_pred_binary))\n",
    "print('F1 score:', f1_score(test_labels, lstm_pred_binary, average='weighted'))\n",
    "print(classification_report(test_labels, lstm_pred_binary))"
   ]
  },
  {
   "cell_type": "code",
   "execution_count": 65,
   "metadata": {},
   "outputs": [
    {
     "name": "stderr",
     "output_type": "stream",
     "text": [
      "WARNING:absl:You are saving your model as an HDF5 file via `model.save()` or `keras.saving.save_model(model)`. This file format is considered legacy. We recommend using instead the native Keras format, e.g. `model.save('my_model.keras')` or `keras.saving.save_model(model, 'my_model.keras')`. \n"
     ]
    }
   ],
   "source": [
    "lstm.save('../src/models/lstm.h5')"
   ]
  }
 ],
 "metadata": {
  "kernelspec": {
   "display_name": "Python 3 (ipykernel)",
   "language": "python",
   "name": "python3"
  },
  "language_info": {
   "codemirror_mode": {
    "name": "ipython",
    "version": 3
   },
   "file_extension": ".py",
   "mimetype": "text/x-python",
   "name": "python",
   "nbconvert_exporter": "python",
   "pygments_lexer": "ipython3",
   "version": "3.11.5"
  }
 },
 "nbformat": 4,
 "nbformat_minor": 2
}
